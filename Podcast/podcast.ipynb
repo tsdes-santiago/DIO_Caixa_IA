{
 "cells": [
  {
   "cell_type": "markdown",
   "metadata": {},
   "source": [
    "# CAIXA - IA Generativa com Microsoft Copilot</span>\n",
    "\n",
    "\n",
    "## Criando um Podcast com IAs Generativas\n"
   ]
  },
  {
   "cell_type": "code",
   "execution_count": 1,
   "metadata": {},
   "outputs": [],
   "source": [
    "import os\n",
    "from langchain_ollama import OllamaLLM\n",
    "from langchain_core.prompts import ChatPromptTemplate"
   ]
  },
  {
   "cell_type": "markdown",
   "metadata": {},
   "source": [
    "## Título"
   ]
  },
  {
   "cell_type": "code",
   "execution_count": null,
   "metadata": {},
   "outputs": [],
   "source": [
    "template = \"\"\"\n",
    "Você é um assistente e vai ajudar na criação de um podcast. \n",
    "\n",
    "Responda como um carioca. {context}\n",
    "\n",
    "Pergunta: {question}\n",
    "\n",
    "Resposta:\n",
    "\"\"\"\n",
    "\n",
    "model = OllamaLLM(model=\"llama3.1:8b\")\n",
    "prompt = ChatPromptTemplate.from_template(template)\n",
    "chain = prompt | model\n",
    "\n",
    "def handle_conversation(user_input, context = \"\"):\n",
    "       \n",
    "    result = chain.invoke({\"context\": context, \"question\": user_input})\n",
    "    print(\"Llama: \", result)\n",
    "    context += f\"\\nUser: {user_input}\\nAI: {result}\"\n",
    "    return context"
   ]
  },
  {
   "cell_type": "code",
   "execution_count": 9,
   "metadata": {},
   "outputs": [
    {
     "name": "stdout",
     "output_type": "stream",
     "text": [
      "Llama:  E aí, mano? Vou te dar algumas sugestões de título e subtítulo para o seu podcast que discussa temas polêmicos!\n",
      "\n",
      "1. **Título:** \"A Palavra é Poder\"\n",
      "**Subtítulo:** \"Discussões incisivas sobre os assuntos mais quentes do momento\"\n",
      "\n",
      "2. **Título:** \"Vozes sem Filtro\"\n",
      "**Subtítulo:** \"Abordando com honestidade as notícias que você não quer ouvir, mas precisa saber\"\n",
      "\n",
      "3. **Título:** \"Cena Aberta\"\n",
      "**Subtítulo:** \"Enfrentando os temas mais polêmicos de nossa realidade atual, sem rodeios!\"\n",
      "\n",
      "4. **Título:** \"Pensamento Crítico\"\n",
      "**Subtítulo:** \"Analisando e debatendo as notícias que marcaram a atualidade brasileira\"\n",
      "\n",
      "5. **Título:** \"A Verdade em Questão\"\n",
      "**Subtítulo:** \"Nossa opinião, suas reações: o debate mais honesto sobre os assuntos polêmicos de hoje\"\n",
      "\n",
      "Agora é só escolher, mano! Qual você prefere?\n"
     ]
    }
   ],
   "source": [
    "context = \"O nome deve ser sucinto. O público alvo são os jovens. O formato do podcast é trazer dois pontos de vista diferentes sobre o assunto.\"\n",
    "user_input = \"Me dê 5 sugestões de nome e subtítulo para um podcast que discute assuntos polêmicos atuais.\"\n",
    "context = handle_conversation(user_input)\n"
   ]
  },
  {
   "cell_type": "markdown",
   "metadata": {},
   "source": [
    "Escolherei o título: \n",
    "\n",
    "**Título:** \"Voz sem Filtro\"\n",
    "\n",
    "**Subtítulo:** \"Nossa opinião, suas reações: o debate mais honesto sobre os assuntos polêmicos de hoje\"\n"
   ]
  },
  {
   "cell_type": "markdown",
   "metadata": {},
   "source": [
    "## Roteiro"
   ]
  },
  {
   "cell_type": "code",
   "execution_count": 10,
   "metadata": {},
   "outputs": [],
   "source": [
    "template = \"\"\"\n",
    "Você é o roteirista do podcast 'Voz sem Filtro'. A estrutura do podcast é dado por:\n",
    "\n",
    "(Introdução)\n",
    "(Argumento_1)\n",
    "(Argumento_2)\n",
    "(Encerramento)\n",
    "\n",
    "Assunto: {Assunto}\n",
    "\n",
    "Roteiro: \n",
    "\n",
    "[Regras]\n",
    "\n",
    "- O podcast deve ter menos de 5 min\n",
    "- Em (Argumento_1) substitua por opiniões favoráveis ao {Assunto}\n",
    "- Em (Argumento_2) substitua por opiniões contrárias ao {Assunto}\n",
    "- Em (Encerramento) faça um resumo de (Argumento_1) e (Argumento_2) e diga que o ouvinte deve tirar suas conclusões. \n",
    "- Termine dizendo: \"Esse foi o podcast de hoje, atéa próxima\"\n",
    "\"\"\"\n",
    "\n",
    "prompt = ChatPromptTemplate.from_template(template)\n",
    "chain = prompt | model\n",
    "\n",
    "def roteiro(tema):\n",
    "       \n",
    "    result = chain.invoke({\"Assunto\": tema})\n",
    "    print(\"Llama: \", result)\n",
    "    pass"
   ]
  },
  {
   "cell_type": "code",
   "execution_count": 13,
   "metadata": {},
   "outputs": [
    {
     "name": "stdout",
     "output_type": "stream",
     "text": [
      "Llama:  Aqui está o roteiro do podcast:\n",
      "\n",
      "**Introdução**\n",
      "(Breve apresentação sobre o tema do dia: Tributação de grandes fortunas)\n",
      "\n",
      "\"Hoje vamos discutir um assunto que tem gerado muitas discussões nos últimos anos: a tributação de grandes fortunas. Como vocês sabem, o Brasil é um dos países com maior desigualdade de renda do mundo, e a concentração de riqueza em mãos de poucas pessoas é um problema que precisa ser enfrentado. Neste podcast, vamos apresentar as duas perspectivas principais sobre este tema: os argumentos a favor da tributação e os argumentos contra.\"\n",
      "\n",
      "**Argumento 1 - A Favor da Tributação**\n",
      "\"Primeiramente, vamos às opiniões favoráveis à tributação de grandes fortunas. Para muitos economistas, a tributação é uma ferramenta importante para reduzir a desigualdade e promover a justiça social. Além disso, a tributação pode ser usada como um instrumento para controlar a inflação e financiar políticas públicas importantes. Com a tributação, o Estado pode cobrar uma parcela dos rendimentos dos mais ricos para investir em infraestrutura, educação e saúde.\"\n",
      "\n",
      "**Argumento 2 - Contra a Tributação**\n",
      "\"Agora, vamos às opiniões contrárias à tributação de grandes fortunas. Muitos argumentam que a tributação é um obstáculo ao crescimento econômico, pois pode levar a uma fuga de capitais e diminuir a injeção de investimentos em empresas. Além disso, alguns defendem que a tributação não resolve o problema da desigualdade, mas sim pune os mais ricos por serem mais ricos. Outros argumentam que existem mecanismos mais eficazes para combater a evasão fiscal e controlar a concentração de riqueza.\"\n",
      "\n",
      "**Encerramento**\n",
      "\"Esses foram os dois principais pontos de vista sobre a tributação de grandes fortunas. Agora é com vocês: o que acham? Devemos tributar as grandes fortunas para reduzir a desigualdade e promover a justiça social, ou devemos buscar outras soluções? Esse foi o podcast de hoje, até a próxima!\"\n"
     ]
    }
   ],
   "source": [
    "roteiro(\"Tributação de grandes fortunas\")"
   ]
  },
  {
   "cell_type": "code",
   "execution_count": 14,
   "metadata": {},
   "outputs": [
    {
     "name": "stdout",
     "output_type": "stream",
     "text": [
      "Llama:  Aqui está o roteiro do podcast \"Voz sem Filtro\" sobre investimento do governo em energias renováveis:\n",
      "\n",
      "[Introdução] (0s - 10s)\n",
      "\n",
      "Olá a todos! Bem-vindos ao nosso podcast 'Voz sem Filtro'! Hoje vamos debater um tema muito importante e polêmico: o investimento do governo em energias renováveis. É um assunto que tem gerado muitas discussões e opiniões diferentes entre os brasileiros. Vamos conhecer melhor essa questão e apresentar as principais perspectivas sobre o assunto.\n",
      "\n",
      "[Argumento_1] (10s - 50s)\n",
      "\n",
      "O governo está investindo em energias renováveis como uma estratégia para reduzir a dependência do país em fontes de energia não renováveis, que estão esgotando rapidamente. Com isso, o Brasil pode diminuir suas emissões de gases com efeito estufa, contribuindo para a mitigação dos impactos climáticos globais. Além disso, as energias renováveis podem gerar emprego e estimular a economia local em áreas rurais. É uma oportunidade única para desenvolvermos tecnologias mais limpas e eficientes.\n",
      "\n",
      "[Argumento_2] (50s - 1m40)\n",
      "\n",
      "Por outro lado, alguns argumentam que o investimento em energias renováveis é um gasto inútil. Eles afirmam que as fontes de energia não renováveis, como o petróleo e o gás natural, ainda são fundamentais para a economia brasileira, especialmente considerando o desenvolvimento industrial do país. Além disso, a transição para energias renováveis pode ser lenta e cara, impactando negativamente as contas públicas do país.\n",
      "\n",
      "[Encerramento] (1m40 - 2m50)\n",
      "\n",
      "Agora que apresentamos algumas das principais perspectivas sobre o investimento do governo em energias renováveis, cabe a você decidir qual é sua opinião. As fontes de energia não renováveis estão se esgotando e os impactos climáticos são cada vez mais alarmantes, mas ao mesmo tempo, a transição para energias renováveis pode ser complexa e onerosa. É fundamental que o ouvinte considere todos esses fatores antes de tomar uma decisão.\n",
      "\n",
      "Esse foi o podcast de hoje, até a próxima!\n"
     ]
    }
   ],
   "source": [
    "roteiro(\"Investimento do governo em energias renováveis\")"
   ]
  },
  {
   "cell_type": "code",
   "execution_count": null,
   "metadata": {},
   "outputs": [],
   "source": []
  }
 ],
 "metadata": {
  "kernelspec": {
   "display_name": "env-DIO",
   "language": "python",
   "name": "env-dio"
  },
  "language_info": {
   "codemirror_mode": {
    "name": "ipython",
    "version": 3
   },
   "file_extension": ".py",
   "mimetype": "text/x-python",
   "name": "python",
   "nbconvert_exporter": "python",
   "pygments_lexer": "ipython3",
   "version": "3.13.1"
  }
 },
 "nbformat": 4,
 "nbformat_minor": 2
}
